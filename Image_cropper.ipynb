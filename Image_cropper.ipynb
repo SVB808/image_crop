{
  "nbformat": 4,
  "nbformat_minor": 0,
  "metadata": {
    "colab": {
      "provenance": []
    },
    "kernelspec": {
      "name": "python3",
      "display_name": "Python 3"
    },
    "language_info": {
      "name": "python"
    }
  },
  "cells": [
    {
      "cell_type": "code",
      "source": [
        "from google.colab import drive\n",
        "drive.mount('/content/drive')"
      ],
      "metadata": {
        "colab": {
          "base_uri": "https://localhost:8080/"
        },
        "id": "iq10UVoGCq50",
        "outputId": "247b579b-717a-4548-f068-91877b936ed5"
      },
      "execution_count": 8,
      "outputs": [
        {
          "output_type": "stream",
          "name": "stdout",
          "text": [
            "Drive already mounted at /content/drive; to attempt to forcibly remount, call drive.mount(\"/content/drive\", force_remount=True).\n"
          ]
        }
      ]
    },
    {
      "cell_type": "code",
      "source": [
        "import os\n",
        "\n",
        "from PIL import Image\n"
      ],
      "metadata": {
        "id": "q3DOS4RyD4Ze"
      },
      "execution_count": 10,
      "outputs": []
    },
    {
      "cell_type": "code",
      "source": [
        "#Dataset path\n",
        "\n",
        "DATASET_PATH = './drive/MyDrive/Images/PNG'\n",
        "\n",
        "#Path where the modified images are to be stored\n",
        "\n",
        "MDATASET_PATH = './drive/MyDrive/Images/MODPNG'\n",
        "\n",
        "for image_file in os.listdir(DATASET_PATH):\n",
        "\n",
        "  image_path = os.path.join(DATASET_PATH, image_file)\n",
        "\n",
        "  im = Image.open(image_path)\n",
        "\n",
        "  # Setting the points for cropped image\n",
        "\n",
        "  left = 0\n",
        "\n",
        "  top = 0\n",
        "\n",
        "  right = 700\n",
        "\n",
        "  bottom = 610\n",
        "\n",
        "  # Cropped image of above dimension\n",
        "\n",
        "  # (It will not change original image)\n",
        "\n",
        "  im1 = im.crop((left, top, right, bottom))\n",
        "\n",
        "  cropped_image_path = os.path.join(MDATASET_PATH, image_file)\n",
        "\n",
        "  im1.save(cropped_image_path, 'PNG')"
      ],
      "metadata": {
        "id": "acM04O_SC6cd"
      },
      "execution_count": 12,
      "outputs": []
    },
    {
      "cell_type": "code",
      "execution_count": null,
      "metadata": {
        "id": "TixiZ9mVCW56"
      },
      "outputs": [],
      "source": []
    }
  ]
}